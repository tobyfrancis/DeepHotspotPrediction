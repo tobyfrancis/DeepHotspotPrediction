{
 "cells": [
  {
   "cell_type": "code",
   "execution_count": null,
   "metadata": {
    "collapsed": true
   },
   "outputs": [],
   "source": [
    "import numpy as np\n",
    "import pycuda"
   ]
  },
  {
   "cell_type": "code",
   "execution_count": null,
   "metadata": {
    "collapsed": true
   },
   "outputs": [],
   "source": [
    "def load_strain_energy(index):\n",
    "    strain = pd.read_csv('synthetic/R88-synthetic-sfield-0010/R88-synthetic-sfield-0010-0000000000.output',\\\n",
    "                          delim_whitespace=True,skiprows=3)\n",
    "    stress = pd.read_csv('synthetic/R88-synthetic-efield-0010/R88-synthetic-efield-0010-0000000000.output',\\\n",
    "        delim_whitespace=True,skiprows=3)\n",
    "\n",
    "def global_I(data_series, memory_blocks = None):\n",
    "    if memory_blocks:\n",
    "        \n",
    "    else:\n",
    "        \n",
    "    return globalmoransI\n",
    "\n",
    "def local_I(data_series, memory_blocks = None):\n",
    "    if memory_blocks:\n",
    "        \n",
    "    else:\n",
    "        \n",
    "    return localmoransI\n",
    "\n",
    "def init_memory_blocks():\n",
    "    \n",
    "    \n",
    "    return memory_blocks"
   ]
  }
 ],
 "metadata": {
  "kernelspec": {
   "display_name": "Python 3",
   "language": "python",
   "name": "python3"
  },
  "language_info": {
   "codemirror_mode": {
    "name": "ipython",
    "version": 3
   },
   "file_extension": ".py",
   "mimetype": "text/x-python",
   "name": "python",
   "nbconvert_exporter": "python",
   "pygments_lexer": "ipython3",
   "version": "3.5.2"
  }
 },
 "nbformat": 4,
 "nbformat_minor": 2
}
